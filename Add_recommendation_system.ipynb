{
 "cells": [
  {
   "cell_type": "markdown",
   "id": "8fc4d845",
   "metadata": {},
   "source": [
    "**Step 2: Loading and Exploring the New Data**\n",
    "\n",
    "This step is very similar to your previous project, we just need to adjust for the new column names and labels."
   ]
  },
  {
   "cell_type": "code",
   "execution_count": 66,
   "id": "9671611f",
   "metadata": {},
   "outputs": [],
   "source": [
    "import pandas as pd\n",
    "import seaborn as sns\n",
    "import matplotlib.pyplot as plt"
   ]
  },
  {
   "cell_type": "code",
   "execution_count": 142,
   "id": "aec4c46c",
   "metadata": {},
   "outputs": [],
   "source": [
    "# Load the datasets\n",
    "df_train = pd.read_csv('train.csv')\n",
    "df_test = pd.read_csv('test.csv')"
   ]
  },
  {
   "cell_type": "code",
   "execution_count": 143,
   "id": "6f1e2c21",
   "metadata": {},
   "outputs": [],
   "source": [
    "# The columns are named differently. Let's rename them to match your old project.\n",
    "# Column 1 is the label, Column 2 is the title, Column 3 is the text.\n",
    "df_train.columns = ['label', 'title', 'text']\n",
    "df_test.columns = ['label', 'title', 'text']"
   ]
  },
  {
   "cell_type": "code",
   "execution_count": 144,
   "id": "f80fc304",
   "metadata": {},
   "outputs": [],
   "source": [
    "# --- IMPORTANT: Label Mapping ---\n",
    "# In this dataset, the labels are 1, 2, 3, 4.\n",
    "# 1: World, 2: Sports, 3: Business, 4: Sci/Tech\n",
    "# Let's create a mapping for later use.\n",
    "class_mapping = {1: 'World', 2: 'Sports', 3: 'Business', 4: 'Sci/Tech'}"
   ]
  },
  {
   "cell_type": "code",
   "execution_count": 145,
   "id": "fb97a46d",
   "metadata": {},
   "outputs": [
    {
     "name": "stdout",
     "output_type": "stream",
     "text": [
      "Training Data Distribution:\n",
      "3    30000\n",
      "4    30000\n",
      "2    30000\n",
      "1    30000\n",
      "Name: label, dtype: int64\n"
     ]
    },
    {
     "data": {
      "image/png": "[encoded data removed]",
      "text/plain": [
       "<Figure size 640x480 with 1 Axes>"
      ]
     },
     "metadata": {},
     "output_type": "display_data"
    },
    {
     "data": {
      "text/html": [
       "<div>\n",
       "<style scoped>\n",
       "    .dataframe tbody tr th:only-of-type {\n",
       "        vertical-align: middle;\n",
       "    }\n",
       "\n",
       "    .dataframe tbody tr th {\n",
       "        vertical-align: top;\n",
       "    }\n",
       "\n",
       "    .dataframe thead th {\n",
       "        text-align: right;\n",
       "    }\n",
       "</style>\n",
       "<table border=\"1\" class=\"dataframe\">\n",
       "  <thead>\n",
       "    <tr style=\"text-align: right;\">\n",
       "      <th></th>\n",
       "      <th>label</th>\n",
       "      <th>title</th>\n",
       "      <th>text</th>\n",
       "    </tr>\n",
       "  </thead>\n",
       "  <tbody>\n",
       "    <tr>\n",
       "      <th>0</th>\n",
       "      <td>3</td>\n",
       "      <td>Wall St. Bears Claw Back Into the Black (Reuters)</td>\n",
       "      <td>Reuters - Short-sellers, Wall Street's dwindli...</td>\n",
       "    </tr>\n",
       "    <tr>\n",
       "      <th>1</th>\n",
       "      <td>3</td>\n",
       "      <td>Carlyle Looks Toward Commercial Aerospace (Reu...</td>\n",
       "      <td>Reuters - Private investment firm Carlyle Grou...</td>\n",
       "    </tr>\n",
       "    <tr>\n",
       "      <th>2</th>\n",
       "      <td>3</td>\n",
       "      <td>Oil and Economy Cloud Stocks' Outlook (Reuters)</td>\n",
       "      <td>Reuters - Soaring crude prices plus worries\\ab...</td>\n",
       "    </tr>\n",
       "    <tr>\n",
       "      <th>3</th>\n",
       "      <td>3</td>\n",
       "      <td>Iraq Halts Oil Exports from Main Southern Pipe...</td>\n",
       "      <td>Reuters - Authorities have halted oil export\\f...</td>\n",
       "    </tr>\n",
       "    <tr>\n",
       "      <th>4</th>\n",
       "      <td>3</td>\n",
       "      <td>Oil prices soar to all-time record, posing new...</td>\n",
       "      <td>AFP - Tearaway world oil prices, toppling reco...</td>\n",
       "    </tr>\n",
       "  </tbody>\n",
       "</table>\n",
       "</div>"
      ],
      "text/plain": [
       "   label                                              title  \\\n",
       "0      3  Wall St. Bears Claw Back Into the Black (Reuters)   \n",
       "1      3  Carlyle Looks Toward Commercial Aerospace (Reu...   \n",
       "2      3    Oil and Economy Cloud Stocks' Outlook (Reuters)   \n",
       "3      3  Iraq Halts Oil Exports from Main Southern Pipe...   \n",
       "4      3  Oil prices soar to all-time record, posing new...   \n",
       "\n",
       "                                                text  \n",
       "0  Reuters - Short-sellers, Wall Street's dwindli...  \n",
       "1  Reuters - Private investment firm Carlyle Grou...  \n",
       "2  Reuters - Soaring crude prices plus worries\\ab...  \n",
       "3  Reuters - Authorities have halted oil export\\f...  \n",
       "4  AFP - Tearaway world oil prices, toppling reco...  "
      ]
     },
     "execution_count": 145,
     "metadata": {},
     "output_type": "execute_result"
    }
   ],
   "source": [
    "# Let's check the class distribution\n",
    "print(\"Training Data Distribution:\")\n",
    "print(df_train['label'].value_counts())\n",
    "\n",
    "sns.countplot(x='label', data=df_train)\n",
    "plt.title(\"Distribution of News Categories\")\n",
    "plt.show()\n",
    "\n",
    "df_train.head()"
   ]
  },
  {
   "cell_type": "code",
   "execution_count": 146,
   "id": "c1787a49",
   "metadata": {},
   "outputs": [
    {
     "name": "stdout",
     "output_type": "stream",
     "text": [
      "Using 20000 samples for training and 6000 for testing.\n"
     ]
    }
   ],
   "source": [
    "# --- Create Subsets ---\n",
    "df_train = df_train.head(20000).copy()\n",
    "df_test = df_test.head(6000).copy()\n",
    "\n",
    "print(f\"Using {len(df_train)} samples for training and {len(df_test)} for testing.\")"
   ]
  },
  {
   "cell_type": "code",
   "execution_count": 147,
   "id": "25c4b053",
   "metadata": {},
   "outputs": [
    {
     "name": "stdout",
     "output_type": "stream",
     "text": [
      "Training Data Distribution:\n",
      "1    5227\n",
      "4    5126\n",
      "2    4982\n",
      "3    4665\n",
      "Name: label, dtype: int64\n"
     ]
    },
    {
     "data": {
      "image/png": "[encoded data removed]",
      "text/plain": [
       "<Figure size 640x480 with 1 Axes>"
      ]
     },
     "metadata": {},
     "output_type": "display_data"
    },
    {
     "data": {
      "text/html": [
       "<div>\n",
       "<style scoped>\n",
       "    .dataframe tbody tr th:only-of-type {\n",
       "        vertical-align: middle;\n",
       "    }\n",
       "\n",
       "    .dataframe tbody tr th {\n",
       "        vertical-align: top;\n",
       "    }\n",
       "\n",
       "    .dataframe thead th {\n",
       "        text-align: right;\n",
       "    }\n",
       "</style>\n",
       "<table border=\"1\" class=\"dataframe\">\n",
       "  <thead>\n",
       "    <tr style=\"text-align: right;\">\n",
       "      <th></th>\n",
       "      <th>label</th>\n",
       "      <th>title</th>\n",
       "      <th>text</th>\n",
       "    </tr>\n",
       "  </thead>\n",
       "  <tbody>\n",
       "    <tr>\n",
       "      <th>0</th>\n",
       "      <td>3</td>\n",
       "      <td>Wall St. Bears Claw Back Into the Black (Reuters)</td>\n",
       "      <td>Reuters - Short-sellers, Wall Street's dwindli...</td>\n",
       "    </tr>\n",
       "    <tr>\n",
       "      <th>1</th>\n",
       "      <td>3</td>\n",
       "      <td>Carlyle Looks Toward Commercial Aerospace (Reu...</td>\n",
       "      <td>Reuters - Private investment firm Carlyle Grou...</td>\n",
       "    </tr>\n",
       "    <tr>\n",
       "      <th>2</th>\n",
       "      <td>3</td>\n",
       "      <td>Oil and Economy Cloud Stocks' Outlook (Reuters)</td>\n",
       "      <td>Reuters - Soaring crude prices plus worries\\ab...</td>\n",
       "    </tr>\n",
       "    <tr>\n",
       "      <th>3</th>\n",
       "      <td>3</td>\n",
       "      <td>Iraq Halts Oil Exports from Main Southern Pipe...</td>\n",
       "      <td>Reuters - Authorities have halted oil export\\f...</td>\n",
       "    </tr>\n",
       "    <tr>\n",
       "      <th>4</th>\n",
       "      <td>3</td>\n",
       "      <td>Oil prices soar to all-time record, posing new...</td>\n",
       "      <td>AFP - Tearaway world oil prices, toppling reco...</td>\n",
       "    </tr>\n",
       "  </tbody>\n",
       "</table>\n",
       "</div>"
      ],
      "text/plain": [
       "   label                                              title  \\\n",
       "0      3  Wall St. Bears Claw Back Into the Black (Reuters)   \n",
       "1      3  Carlyle Looks Toward Commercial Aerospace (Reu...   \n",
       "2      3    Oil and Economy Cloud Stocks' Outlook (Reuters)   \n",
       "3      3  Iraq Halts Oil Exports from Main Southern Pipe...   \n",
       "4      3  Oil prices soar to all-time record, posing new...   \n",
       "\n",
       "                                                text  \n",
       "0  Reuters - Short-sellers, Wall Street's dwindli...  \n",
       "1  Reuters - Private investment firm Carlyle Grou...  \n",
       "2  Reuters - Soaring crude prices plus worries\\ab...  \n",
       "3  Reuters - Authorities have halted oil export\\f...  \n",
       "4  AFP - Tearaway world oil prices, toppling reco...  "
      ]
     },
     "execution_count": 147,
     "metadata": {},
     "output_type": "execute_result"
    }
   ],
   "source": [
    "# Let's check the class distribution\n",
    "print(\"Training Data Distribution:\")\n",
    "print(df_train['label'].value_counts())\n",
    "\n",
    "sns.countplot(x='label', data=df_train)\n",
    "plt.title(\"Distribution of News Categories\")\n",
    "plt.show()\n",
    "\n",
    "df_train.head()"
   ]
  },
  {
   "cell_type": "markdown",
   "id": "231486db",
   "metadata": {},
   "source": [
    "**Step 3: Text Preprocessing (Using YOUR Existing Code)**\n",
    "\n",
    "This is the best part. Your existing preprocessing functions are perfect for this task. You don't need to change anything. Just copy and paste them directly."
   ]
  },
  {
   "cell_type": "code",
   "execution_count": 103,
   "id": "ad60a5a0",
   "metadata": {},
   "outputs": [],
   "source": [
    "import re\n",
    "import nltk\n",
    "from nltk.corpus import stopwords\n",
    "from nltk.stem import WordNetLemmatizer"
   ]
  },
  {
   "cell_type": "code",
   "execution_count": 71,
   "id": "8a3e9746",
   "metadata": {},
   "outputs": [
    {
     "name": "stderr",
     "output_type": "stream",
     "text": [
      "[nltk_data] Downloading package punkt to /home/azureuser/nltk_data...\n",
      "[nltk_data]   Package punkt is already up-to-date!\n",
      "[nltk_data] Downloading package wordnet to\n",
      "[nltk_data]     /home/azureuser/nltk_data...\n",
      "[nltk_data]   Package wordnet is already up-to-date!\n",
      "[nltk_data] Downloading package stopwords to\n",
      "[nltk_data]     /home/azureuser/nltk_data...\n",
      "[nltk_data]   Package stopwords is already up-to-date!\n"
     ]
    },
    {
     "data": {
      "text/plain": [
       "True"
      ]
     },
     "execution_count": 71,
     "metadata": {},
     "output_type": "execute_result"
    }
   ],
   "source": [
    "# Make sure you have the NLTK data downloaded\n",
    "nltk.download('punkt')\n",
    "nltk.download('wordnet')\n",
    "nltk.download('stopwords')"
   ]
  },
  {
   "cell_type": "code",
   "execution_count": 148,
   "id": "7f25ef1f",
   "metadata": {},
   "outputs": [],
   "source": [
    "def clean_text(text):\n",
    "    text = re.sub(r'<.*?>', '', text)  # Remove HTML tags\n",
    "    text = re.sub(r'http\\S+|www\\S+|https\\S+', '', text)  # Remove URLs\n",
    "    text = re.sub(r'[^a-zA-Z\\s]', '', text)  # Remove special characters and numbers\n",
    "    text = text.lower()  # Convert to lowercase\n",
    "    text = re.sub(r'\\s+', ' ', text).strip()  # Remove extra whitespace\n",
    "    return text"
   ]
  },
  {
   "cell_type": "code",
   "execution_count": 149,
   "id": "3d40ba34",
   "metadata": {},
   "outputs": [],
   "source": [
    "def tokenize_remove_stopwords_and_lemmatize(text):\n",
    "    stop_words = set(stopwords.words('english'))\n",
    "    lemmatizer = WordNetLemmatizer()\n",
    "    tokens = nltk.word_tokenize(text)\n",
    "    processed_tokens = [lemmatizer.lemmatize(token) for token in tokens if token not in stop_words]\n",
    "    return ' '.join(processed_tokens)"
   ]
  },
  {
   "cell_type": "code",
   "execution_count": 150,
   "id": "ad86861f",
   "metadata": {},
   "outputs": [],
   "source": [
    "def preprocess_text(text):\n",
    "    clean = clean_text(text)\n",
    "    processed = tokenize_remove_stopwords_and_lemmatize(clean)\n",
    "    return processed"
   ]
  },
  {
   "cell_type": "code",
   "execution_count": 151,
   "id": "544c3ac3",
   "metadata": {},
   "outputs": [
    {
     "name": "stdout",
     "output_type": "stream",
     "text": [
      "Combining title and text...\n"
     ]
    }
   ],
   "source": [
    "# Combine title and text\n",
    "print(\"Combining title and text...\")\n",
    "df_train['combined_text'] = df_train['title'] + ' ' + df_train['text']\n",
    "df_test['combined_text'] = df_test['title'] + ' ' + df_test['text']"
   ]
  },
  {
   "cell_type": "code",
   "execution_count": 152,
   "id": "45026fb0",
   "metadata": {},
   "outputs": [
    {
     "name": "stdout",
     "output_type": "stream",
     "text": [
      "Preprocessing text... (This may take a few minutes)\n",
      "Preprocessing complete!\n"
     ]
    },
    {
     "data": {
      "text/html": [
       "<div>\n",
       "<style scoped>\n",
       "    .dataframe tbody tr th:only-of-type {\n",
       "        vertical-align: middle;\n",
       "    }\n",
       "\n",
       "    .dataframe tbody tr th {\n",
       "        vertical-align: top;\n",
       "    }\n",
       "\n",
       "    .dataframe thead th {\n",
       "        text-align: right;\n",
       "    }\n",
       "</style>\n",
       "<table border=\"1\" class=\"dataframe\">\n",
       "  <thead>\n",
       "    <tr style=\"text-align: right;\">\n",
       "      <th></th>\n",
       "      <th>label</th>\n",
       "      <th>title</th>\n",
       "      <th>text</th>\n",
       "      <th>combined_text</th>\n",
       "      <th>processed_text</th>\n",
       "    </tr>\n",
       "  </thead>\n",
       "  <tbody>\n",
       "    <tr>\n",
       "      <th>0</th>\n",
       "      <td>3</td>\n",
       "      <td>Wall St. Bears Claw Back Into the Black (Reuters)</td>\n",
       "      <td>Reuters - Short-sellers, Wall Street's dwindli...</td>\n",
       "      <td>Wall St. Bears Claw Back Into the Black (Reute...</td>\n",
       "      <td>wall st bear claw back black reuters reuters s...</td>\n",
       "    </tr>\n",
       "    <tr>\n",
       "      <th>1</th>\n",
       "      <td>3</td>\n",
       "      <td>Carlyle Looks Toward Commercial Aerospace (Reu...</td>\n",
       "      <td>Reuters - Private investment firm Carlyle Grou...</td>\n",
       "      <td>Carlyle Looks Toward Commercial Aerospace (Reu...</td>\n",
       "      <td>carlyle look toward commercial aerospace reute...</td>\n",
       "    </tr>\n",
       "    <tr>\n",
       "      <th>2</th>\n",
       "      <td>3</td>\n",
       "      <td>Oil and Economy Cloud Stocks' Outlook (Reuters)</td>\n",
       "      <td>Reuters - Soaring crude prices plus worries\\ab...</td>\n",
       "      <td>Oil and Economy Cloud Stocks' Outlook (Reuters...</td>\n",
       "      <td>oil economy cloud stock outlook reuters reuter...</td>\n",
       "    </tr>\n",
       "    <tr>\n",
       "      <th>3</th>\n",
       "      <td>3</td>\n",
       "      <td>Iraq Halts Oil Exports from Main Southern Pipe...</td>\n",
       "      <td>Reuters - Authorities have halted oil export\\f...</td>\n",
       "      <td>Iraq Halts Oil Exports from Main Southern Pipe...</td>\n",
       "      <td>iraq halt oil export main southern pipeline re...</td>\n",
       "    </tr>\n",
       "    <tr>\n",
       "      <th>4</th>\n",
       "      <td>3</td>\n",
       "      <td>Oil prices soar to all-time record, posing new...</td>\n",
       "      <td>AFP - Tearaway world oil prices, toppling reco...</td>\n",
       "      <td>Oil prices soar to all-time record, posing new...</td>\n",
       "      <td>oil price soar alltime record posing new menac...</td>\n",
       "    </tr>\n",
       "  </tbody>\n",
       "</table>\n",
       "</div>"
      ],
      "text/plain": [
       "   label                                              title  \\\n",
       "0      3  Wall St. Bears Claw Back Into the Black (Reuters)   \n",
       "1      3  Carlyle Looks Toward Commercial Aerospace (Reu...   \n",
       "2      3    Oil and Economy Cloud Stocks' Outlook (Reuters)   \n",
       "3      3  Iraq Halts Oil Exports from Main Southern Pipe...   \n",
       "4      3  Oil prices soar to all-time record, posing new...   \n",
       "\n",
       "                                                text  \\\n",
       "0  Reuters - Short-sellers, Wall Street's dwindli...   \n",
       "1  Reuters - Private investment firm Carlyle Grou...   \n",
       "2  Reuters - Soaring crude prices plus worries\\ab...   \n",
       "3  Reuters - Authorities have halted oil export\\f...   \n",
       "4  AFP - Tearaway world oil prices, toppling reco...   \n",
       "\n",
       "                                       combined_text  \\\n",
       "0  Wall St. Bears Claw Back Into the Black (Reute...   \n",
       "1  Carlyle Looks Toward Commercial Aerospace (Reu...   \n",
       "2  Oil and Economy Cloud Stocks' Outlook (Reuters...   \n",
       "3  Iraq Halts Oil Exports from Main Southern Pipe...   \n",
       "4  Oil prices soar to all-time record, posing new...   \n",
       "\n",
       "                                      processed_text  \n",
       "0  wall st bear claw back black reuters reuters s...  \n",
       "1  carlyle look toward commercial aerospace reute...  \n",
       "2  oil economy cloud stock outlook reuters reuter...  \n",
       "3  iraq halt oil export main southern pipeline re...  \n",
       "4  oil price soar alltime record posing new menac...  "
      ]
     },
     "execution_count": 152,
     "metadata": {},
     "output_type": "execute_result"
    }
   ],
   "source": [
    "# Apply the preprocessing function\n",
    "print(\"Preprocessing text... (This may take a few minutes)\")\n",
    "df_train['processed_text'] = df_train['combined_text'].apply(preprocess_text)\n",
    "df_test['processed_text'] = df_test['combined_text'].apply(preprocess_text)\n",
    "\n",
    "print(\"Preprocessing complete!\")\n",
    "df_train.head()"
   ]
  },
  {
   "cell_type": "code",
   "execution_count": 110,
   "id": "316e9421",
   "metadata": {},
   "outputs": [
    {
     "data": {
      "text/plain": [
       "(20000, 5)"
      ]
     },
     "execution_count": 110,
     "metadata": {},
     "output_type": "execute_result"
    }
   ],
   "source": [
    "df_train.shape"
   ]
  },
  {
   "cell_type": "code",
   "execution_count": 111,
   "id": "2d8c4f83",
   "metadata": {},
   "outputs": [
    {
     "data": {
      "text/plain": [
       "(6000, 5)"
      ]
     },
     "execution_count": 111,
     "metadata": {},
     "output_type": "execute_result"
    }
   ],
   "source": [
    "df_test.shape"
   ]
  },
  {
   "cell_type": "markdown",
   "id": "7acb850c",
   "metadata": {},
   "source": [
    "**Step 4: Feature Extraction & Training Classical ML Models**\n",
    "\n",
    "Before we even touch deep learning, we'll build and evaluate the models from your base project. Classical models can't work on raw text, so we'll use TF-IDF to convert the processed text into numerical features, just like you did before."
   ]
  },
  {
   "cell_type": "code",
   "execution_count": 118,
   "id": "ebc82e38",
   "metadata": {},
   "outputs": [],
   "source": [
    "from sklearn.feature_extraction.text import TfidfVectorizer\n",
    "from sklearn.linear_model import LogisticRegression\n",
    "from sklearn.ensemble import RandomForestClassifier\n",
    "from sklearn.tree import DecisionTreeClassifier\n",
    "from sklearn.naive_bayes import MultinomialNB\n",
    "from sklearn.metrics import accuracy_score, classification_report,f1_score"
   ]
  },
  {
   "cell_type": "code",
   "execution_count": 114,
   "id": "5fda7e76",
   "metadata": {},
   "outputs": [],
   "source": [
    "# Prepare data for Scikit-learn\n",
    "X_train_text = df_train['processed_text']\n",
    "y_train_labels = df_train['label'] - 1\n",
    "X_test_text = df_test['processed_text']\n",
    "y_test_labels = df_test['label'] - 1"
   ]
  },
  {
   "cell_type": "code",
   "execution_count": 115,
   "id": "a9aa2851",
   "metadata": {},
   "outputs": [
    {
     "name": "stdout",
     "output_type": "stream",
     "text": [
      "Creating TF-IDF features for classical models...\n",
      "TF-IDF features created successfully.\n"
     ]
    }
   ],
   "source": [
    "# --- TF-IDF Vectorization (Same as your base project) ---\n",
    "print(\"Creating TF-IDF features for classical models...\")\n",
    "tfidf = TfidfVectorizer(max_features=5000) # Using 5000 features is a good practice\n",
    "X_train_tfidf = tfidf.fit_transform(X_train_text)\n",
    "X_test_tfidf = tfidf.transform(X_test_text)\n",
    "print(\"TF-IDF features created successfully.\")"
   ]
  },
  {
   "cell_type": "code",
   "execution_count": 116,
   "id": "39d03d35",
   "metadata": {},
   "outputs": [],
   "source": [
    "# --- Define Models (Same as your base project) ---\n",
    "models = {\n",
    "    'Logistic Regression': LogisticRegression(max_iter=1000),\n",
    "    'Random Forest': RandomForestClassifier(n_estimators=100, random_state=42),\n",
    "    'Decision Tree': DecisionTreeClassifier(random_state=42),\n",
    "    'Multinomial NB': MultinomialNB()\n",
    "}\n"
   ]
  },
  {
   "cell_type": "code",
   "execution_count": 119,
   "id": "e38eccf9",
   "metadata": {},
   "outputs": [
    {
     "name": "stdout",
     "output_type": "stream",
     "text": [
      "\n",
      "--- Training Logistic Regression ---\n",
      "Accuracy: 87.75%\n",
      "F1 Score (macro): 0.8772\n",
      "F1 Score (weighted): 0.8774\n",
      "Classification Report:\n",
      "              precision    recall  f1-score   support\n",
      "\n",
      "       World       0.89      0.87      0.88      1519\n",
      "      Sports       0.93      0.94      0.94      1493\n",
      "    Business       0.85      0.82      0.83      1470\n",
      "    Sci/Tech       0.84      0.88      0.86      1518\n",
      "\n",
      "    accuracy                           0.88      6000\n",
      "   macro avg       0.88      0.88      0.88      6000\n",
      "weighted avg       0.88      0.88      0.88      6000\n",
      "\n",
      "\n",
      "--- Training Random Forest ---\n",
      "Accuracy: 83.98%\n",
      "F1 Score (macro): 0.8393\n",
      "F1 Score (weighted): 0.8393\n",
      "Classification Report:\n",
      "              precision    recall  f1-score   support\n",
      "\n",
      "       World       0.85      0.83      0.84      1519\n",
      "      Sports       0.88      0.92      0.90      1493\n",
      "    Business       0.83      0.78      0.81      1470\n",
      "    Sci/Tech       0.80      0.82      0.81      1518\n",
      "\n",
      "    accuracy                           0.84      6000\n",
      "   macro avg       0.84      0.84      0.84      6000\n",
      "weighted avg       0.84      0.84      0.84      6000\n",
      "\n",
      "\n",
      "--- Training Decision Tree ---\n",
      "Accuracy: 75.53%\n",
      "F1 Score (macro): 0.7549\n",
      "F1 Score (weighted): 0.7549\n",
      "Classification Report:\n",
      "              precision    recall  f1-score   support\n",
      "\n",
      "       World       0.75      0.76      0.75      1519\n",
      "      Sports       0.82      0.83      0.83      1493\n",
      "    Business       0.73      0.69      0.71      1470\n",
      "    Sci/Tech       0.73      0.74      0.73      1518\n",
      "\n",
      "    accuracy                           0.76      6000\n",
      "   macro avg       0.75      0.76      0.75      6000\n",
      "weighted avg       0.75      0.76      0.75      6000\n",
      "\n",
      "\n",
      "--- Training Multinomial NB ---\n",
      "Accuracy: 87.58%\n",
      "F1 Score (macro): 0.8754\n",
      "F1 Score (weighted): 0.8755\n",
      "Classification Report:\n",
      "              precision    recall  f1-score   support\n",
      "\n",
      "       World       0.89      0.87      0.88      1519\n",
      "      Sports       0.93      0.95      0.94      1493\n",
      "    Business       0.85      0.81      0.83      1470\n",
      "    Sci/Tech       0.83      0.87      0.85      1518\n",
      "\n",
      "    accuracy                           0.88      6000\n",
      "   macro avg       0.88      0.88      0.88      6000\n",
      "weighted avg       0.88      0.88      0.88      6000\n",
      "\n"
     ]
    }
   ],
   "source": [
    "# ...existing code...\n",
    "results_ml = {}\n",
    "for name, model in models.items():\n",
    "    print(f\"\\n--- Training {name} ---\")\n",
    "    model.fit(X_train_tfidf, y_train_labels)\n",
    "    y_pred = model.predict(X_test_tfidf)\n",
    "    accuracy = accuracy_score(y_test_labels, y_pred)\n",
    "    f1_macro = f1_score(y_test_labels, y_pred, average='macro')\n",
    "    f1_weighted = f1_score(y_test_labels, y_pred, average='weighted')\n",
    "    \n",
    "    # Store the model and its metrics\n",
    "    results_ml[name] = {\n",
    "        'accuracy': accuracy,\n",
    "        'f1_macro': f1_macro,\n",
    "        'f1_weighted': f1_weighted,\n",
    "        'model': model\n",
    "    }\n",
    "    \n",
    "    print(f\"Accuracy: {accuracy*100:.2f}%\")\n",
    "    print(f\"F1 Score (macro): {f1_macro:.4f}\")\n",
    "    print(f\"F1 Score (weighted): {f1_weighted:.4f}\")\n",
    "    print(\"Classification Report:\")\n",
    "    print(classification_report(y_test_labels, y_pred, target_names=['World', 'Sports', 'Business', 'Sci/Tech']))\n",
    "# ...existing code..."
   ]
  },
  {
   "cell_type": "markdown",
   "id": "3c122e11",
   "metadata": {},
   "source": [
    "**Step 4: Preparing Data for the Deep Learning Model**\n",
    "\n",
    "Here, we have a few minor but important changes to handle the multi-class labels."
   ]
  },
  {
   "cell_type": "markdown",
   "id": "a901a411",
   "metadata": {},
   "source": [
    "Next, we'll write code to load these vectors into a format our model can use."
   ]
  },
  {
   "cell_type": "code",
   "execution_count": 121,
   "id": "33205b1f",
   "metadata": {},
   "outputs": [],
   "source": [
    "import numpy as np\n",
    "from tensorflow.keras.preprocessing.text import Tokenizer\n",
    "from tensorflow.keras.preprocessing.sequence import pad_sequences\n",
    "from tensorflow.keras.utils import to_categorical\n"
   ]
  },
  {
   "cell_type": "code",
   "execution_count": null,
   "id": "5bd7f9cc",
   "metadata": {},
   "outputs": [],
   "source": [
    "# Download GloVe embeddings (100-dimensional version is a good balance of size and power)\n",
    "!wget http://nlp.stanford.edu/data/glove.6B.zip\n",
    "!unzip -q glove.6B.zip"
   ]
  },
  {
   "cell_type": "code",
   "execution_count": 122,
   "id": "9f63d6e6",
   "metadata": {},
   "outputs": [],
   "source": [
    "# Prepare data for Keras (Tokenization and Padding)\n",
    "X_train_dl = df_train['processed_text']\n",
    "y_train_dl = to_categorical(df_train['label'] - 1, num_classes=4)\n",
    "X_test_dl = df_test['processed_text']\n",
    "y_test_dl = to_categorical(df_test['label'] - 1, num_classes=4)"
   ]
  },
  {
   "cell_type": "code",
   "execution_count": 123,
   "id": "480e62b4",
   "metadata": {},
   "outputs": [],
   "source": [
    "tokenizer = Tokenizer(num_words=5000)\n",
    "tokenizer.fit_on_texts(X_train_dl)\n",
    "X_train_pad = pad_sequences(tokenizer.texts_to_sequences(X_train_dl), maxlen=100)\n",
    "X_test_pad = pad_sequences(tokenizer.texts_to_sequences(X_test_dl), maxlen=100)\n",
    "vocab_size = min(5000, len(tokenizer.word_index) + 1)"
   ]
  },
  {
   "cell_type": "code",
   "execution_count": 124,
   "id": "9707ac55",
   "metadata": {},
   "outputs": [
    {
     "name": "stdout",
     "output_type": "stream",
     "text": [
      "\n",
      "Loading GloVe embeddings and creating embedding matrix...\n"
     ]
    }
   ],
   "source": [
    "# --- Create the GloVe Embedding Matrix ---\n",
    "print(\"\\nLoading GloVe embeddings and creating embedding matrix...\")\n",
    "embedding_dim = 100\n",
    "embeddings_index = {}\n",
    "with open(f'glove.6B.{embedding_dim}d.txt') as f:\n",
    "    for line in f:\n",
    "        word, coefs = line.split(maxsplit=1)\n",
    "        coefs = np.fromstring(coefs, \"f\", sep=\" \")\n",
    "        embeddings_index[word] = coefs"
   ]
  },
  {
   "cell_type": "code",
   "execution_count": 125,
   "id": "50bc409b",
   "metadata": {},
   "outputs": [
    {
     "name": "stdout",
     "output_type": "stream",
     "text": [
      "Embedding matrix created successfully.\n"
     ]
    }
   ],
   "source": [
    "# Prepare the matrix\n",
    "embedding_matrix = np.zeros((vocab_size, embedding_dim))\n",
    "for word, i in tokenizer.word_index.items():\n",
    "    if i >= vocab_size:\n",
    "        continue\n",
    "    embedding_vector = embeddings_index.get(word)\n",
    "    if embedding_vector is not None:\n",
    "        # Words not found in embedding index will be all-zeros.\n",
    "        embedding_matrix[i] = embedding_vector\n",
    "\n",
    "print(\"Embedding matrix created successfully.\")"
   ]
  },
  {
   "cell_type": "markdown",
   "id": "a03f95f8",
   "metadata": {},
   "source": [
    "Step 4: The Enhanced Deep Learning Competition\n",
    "\n",
    "Now we define our more complex model architecture and run the competition. The key changes are using the embedding_matrix and stacking recurrent layers."
   ]
  },
  {
   "cell_type": "code",
   "execution_count": 127,
   "id": "d680f5a3",
   "metadata": {},
   "outputs": [],
   "source": [
    "from tensorflow.keras.models import Sequential\n",
    "from tensorflow.keras.layers import Embedding, SimpleRNN, LSTM, Bidirectional, Dense, Dropout\n",
    "\n",
    "def create_enhanced_nn_model(model_type, vocab_size, embedding_dim, max_length, embedding_matrix):\n",
    "    \"\"\"\n",
    "    Creates a more powerful neural network with pre-trained embeddings and stacked layers.\n",
    "    \"\"\"\n",
    "    model = Sequential()\n",
    "    \n",
    "    # Use the pre-trained GloVe embeddings\n",
    "    model.add(Embedding(\n",
    "        vocab_size,\n",
    "        embedding_dim,\n",
    "        weights=[embedding_matrix], # The key change!\n",
    "        input_length=max_length,\n",
    "        trainable=False # We freeze the embeddings to prevent them from changing\n",
    "    ))\n",
    "    \n",
    "    model.add(Dropout(0.4))\n",
    "\n",
    "    # --- Enhanced Architecture: Stacked Recurrent Layers ---\n",
    "    if model_type == 'RNN':\n",
    "        model.add(SimpleRNN(64, return_sequences=True)) # return_sequences allows stacking\n",
    "        model.add(SimpleRNN(32))\n",
    "    elif model_type == 'LSTM':\n",
    "        model.add(LSTM(64, return_sequences=True))\n",
    "        model.add(LSTM(32))\n",
    "    elif model_type == 'Bi-RNN':\n",
    "        model.add(Bidirectional(SimpleRNN(64, return_sequences=True)))\n",
    "        model.add(Bidirectional(SimpleRNN(32)))\n",
    "    elif model_type == 'Bi-LSTM':\n",
    "        model.add(Bidirectional(LSTM(64, return_sequences=True)))\n",
    "        model.add(Bidirectional(LSTM(32)))\n",
    "    \n",
    "    # Common Dense Layers\n",
    "    model.add(Dense(32, activation='relu'))\n",
    "    model.add(Dropout(0.4))\n",
    "    model.add(Dense(4, activation='softmax'))\n",
    "\n",
    "    model.compile(optimizer='adam', loss='categorical_crossentropy', metrics=['accuracy'])\n",
    "    return model"
   ]
  },
  {
   "cell_type": "code",
   "execution_count": 156,
   "id": "016cb6f7",
   "metadata": {},
   "outputs": [
    {
     "name": "stdout",
     "output_type": "stream",
     "text": [
      "\n",
      "====================\n",
      "--- Training RNN Model ---\n",
      "====================\n",
      "Epoch 1/5\n"
     ]
    },
    {
     "name": "stdout",
     "output_type": "stream",
     "text": [
      "\u001b[1m282/282\u001b[0m \u001b[32m━━━━━━━━━━━━━━━━━━━━\u001b[0m\u001b[37m\u001b[0m \u001b[1m12s\u001b[0m 36ms/step - accuracy: 0.4825 - loss: 1.1638 - val_accuracy: 0.7735 - val_loss: 0.6555\n",
      "Epoch 2/5\n",
      "\u001b[1m282/282\u001b[0m \u001b[32m━━━━━━━━━━━━━━━━━━━━\u001b[0m\u001b[37m\u001b[0m \u001b[1m10s\u001b[0m 35ms/step - accuracy: 0.8013 - loss: 0.6172 - val_accuracy: 0.8455 - val_loss: 0.4648\n",
      "Epoch 3/5\n",
      "\u001b[1m282/282\u001b[0m \u001b[32m━━━━━━━━━━━━━━━━━━━━\u001b[0m\u001b[37m\u001b[0m \u001b[1m10s\u001b[0m 35ms/step - accuracy: 0.7999 - loss: 0.5994 - val_accuracy: 0.8435 - val_loss: 0.4756\n",
      "Epoch 4/5\n",
      "\u001b[1m282/282\u001b[0m \u001b[32m━━━━━━━━━━━━━━━━━━━━\u001b[0m\u001b[37m\u001b[0m \u001b[1m10s\u001b[0m 36ms/step - accuracy: 0.8150 - loss: 0.5716 - val_accuracy: 0.8370 - val_loss: 0.4858\n",
      "Epoch 5/5\n",
      "\u001b[1m282/282\u001b[0m \u001b[32m━━━━━━━━━━━━━━━━━━━━\u001b[0m\u001b[37m\u001b[0m \u001b[1m10s\u001b[0m 35ms/step - accuracy: 0.8275 - loss: 0.5365 - val_accuracy: 0.8625 - val_loss: 0.4356\n",
      "\n",
      " RNN Test Accuracy: 84.57%\n",
      "\n",
      "====================\n",
      "--- Training LSTM Model ---\n",
      "====================\n",
      "Epoch 1/5\n",
      "\u001b[1m282/282\u001b[0m \u001b[32m━━━━━━━━━━━━━━━━━━━━\u001b[0m\u001b[37m\u001b[0m \u001b[1m24s\u001b[0m 77ms/step - accuracy: 0.7228 - loss: 0.7724 - val_accuracy: 0.8830 - val_loss: 0.3842\n",
      "Epoch 2/5\n",
      "\u001b[1m282/282\u001b[0m \u001b[32m━━━━━━━━━━━━━━━━━━━━\u001b[0m\u001b[37m\u001b[0m \u001b[1m22s\u001b[0m 77ms/step - accuracy: 0.8490 - loss: 0.4679 - val_accuracy: 0.8920 - val_loss: 0.3588\n",
      "Epoch 3/5\n",
      "\u001b[1m282/282\u001b[0m \u001b[32m━━━━━━━━━━━━━━━━━━━━\u001b[0m\u001b[37m\u001b[0m \u001b[1m21s\u001b[0m 76ms/step - accuracy: 0.8630 - loss: 0.4166 - val_accuracy: 0.8990 - val_loss: 0.3365\n",
      "Epoch 4/5\n",
      "\u001b[1m282/282\u001b[0m \u001b[32m━━━━━━━━━━━━━━━━━━━━\u001b[0m\u001b[37m\u001b[0m \u001b[1m21s\u001b[0m 75ms/step - accuracy: 0.8690 - loss: 0.4059 - val_accuracy: 0.8935 - val_loss: 0.3374\n",
      "Epoch 5/5\n",
      "\u001b[1m282/282\u001b[0m \u001b[32m━━━━━━━━━━━━━━━━━━━━\u001b[0m\u001b[37m\u001b[0m \u001b[1m21s\u001b[0m 76ms/step - accuracy: 0.8744 - loss: 0.3862 - val_accuracy: 0.8955 - val_loss: 0.3318\n",
      "\n",
      " LSTM Test Accuracy: 87.42%\n",
      "\n",
      "====================\n",
      "--- Training Bi-RNN Model ---\n",
      "====================\n",
      "Epoch 1/5\n",
      "\u001b[1m282/282\u001b[0m \u001b[32m━━━━━━━━━━━━━━━━━━━━\u001b[0m\u001b[37m\u001b[0m \u001b[1m18s\u001b[0m 53ms/step - accuracy: 0.4995 - loss: 1.1317 - val_accuracy: 0.8245 - val_loss: 0.5317\n",
      "Epoch 2/5\n",
      "\u001b[1m282/282\u001b[0m \u001b[32m━━━━━━━━━━━━━━━━━━━━\u001b[0m\u001b[37m\u001b[0m \u001b[1m14s\u001b[0m 51ms/step - accuracy: 0.7906 - loss: 0.6490 - val_accuracy: 0.8390 - val_loss: 0.5066\n",
      "Epoch 3/5\n",
      "\u001b[1m282/282\u001b[0m \u001b[32m━━━━━━━━━━━━━━━━━━━━\u001b[0m\u001b[37m\u001b[0m \u001b[1m14s\u001b[0m 51ms/step - accuracy: 0.8142 - loss: 0.5864 - val_accuracy: 0.8630 - val_loss: 0.4507\n",
      "Epoch 4/5\n",
      "\u001b[1m282/282\u001b[0m \u001b[32m━━━━━━━━━━━━━━━━━━━━\u001b[0m\u001b[37m\u001b[0m \u001b[1m14s\u001b[0m 51ms/step - accuracy: 0.8285 - loss: 0.5424 - val_accuracy: 0.8785 - val_loss: 0.4206\n",
      "Epoch 5/5\n",
      "\u001b[1m282/282\u001b[0m \u001b[32m━━━━━━━━━━━━━━━━━━━━\u001b[0m\u001b[37m\u001b[0m \u001b[1m14s\u001b[0m 51ms/step - accuracy: 0.8198 - loss: 0.5509 - val_accuracy: 0.8495 - val_loss: 0.4732\n",
      "\n",
      " Bi-RNN Test Accuracy: 83.63%\n",
      "\n",
      "====================\n",
      "--- Training Bi-LSTM Model ---\n",
      "====================\n",
      "Epoch 1/5\n",
      "\u001b[1m282/282\u001b[0m \u001b[32m━━━━━━━━━━━━━━━━━━━━\u001b[0m\u001b[37m\u001b[0m \u001b[1m34s\u001b[0m 106ms/step - accuracy: 0.7134 - loss: 0.7748 - val_accuracy: 0.8770 - val_loss: 0.3718\n",
      "Epoch 2/5\n",
      "\u001b[1m282/282\u001b[0m \u001b[32m━━━━━━━━━━━━━━━━━━━━\u001b[0m\u001b[37m\u001b[0m \u001b[1m29s\u001b[0m 101ms/step - accuracy: 0.8519 - loss: 0.4629 - val_accuracy: 0.8880 - val_loss: 0.3502\n",
      "Epoch 3/5\n",
      "\u001b[1m282/282\u001b[0m \u001b[32m━━━━━━━━━━━━━━━━━━━━\u001b[0m\u001b[37m\u001b[0m \u001b[1m29s\u001b[0m 103ms/step - accuracy: 0.8621 - loss: 0.4189 - val_accuracy: 0.8865 - val_loss: 0.3530\n",
      "Epoch 4/5\n",
      "\u001b[1m282/282\u001b[0m \u001b[32m━━━━━━━━━━━━━━━━━━━━\u001b[0m\u001b[37m\u001b[0m \u001b[1m41s\u001b[0m 102ms/step - accuracy: 0.8735 - loss: 0.3939 - val_accuracy: 0.8995 - val_loss: 0.3308\n",
      "Epoch 5/5\n",
      "\u001b[1m282/282\u001b[0m \u001b[32m━━━━━━━━━━━━━━━━━━━━\u001b[0m\u001b[37m\u001b[0m \u001b[1m29s\u001b[0m 104ms/step - accuracy: 0.8774 - loss: 0.3771 - val_accuracy: 0.9035 - val_loss: 0.3186\n",
      "\n",
      " Bi-LSTM Test Accuracy: 88.28%\n"
     ]
    }
   ],
   "source": [
    "# --- Run the Enhanced DL Gauntlet ---\n",
    "nn_model_types = ['RNN', 'LSTM', 'Bi-RNN', 'Bi-LSTM']\n",
    "results_dl = {}\n",
    "\n",
    "for model_type in nn_model_types:\n",
    "    print(f\"\\n{'='*20}\\n--- Training {model_type} Model ---\\n{'='*20}\")\n",
    "    \n",
    "    model = create_enhanced_nn_model(model_type, vocab_size, embedding_dim, 100, embedding_matrix)\n",
    "    \n",
    "    history = model.fit(\n",
    "        X_train_pad, y_train_dl,\n",
    "        epochs=5,\n",
    "        batch_size=64,\n",
    "        validation_split=0.1,\n",
    "        verbose=1\n",
    "    )\n",
    "    \n",
    "    loss, accuracy = model.evaluate(X_test_pad, y_test_dl, verbose=0)\n",
    "    print(f\"\\n {model_type} Test Accuracy: {accuracy*100:.2f}%\")\n",
    "    results_dl[f\"{model_type}\"] = {'accuracy': accuracy, 'model': model}"
   ]
  },
  {
   "cell_type": "markdown",
   "id": "20587ffc",
   "metadata": {},
   "source": [
    "**Step 6: The Final Showdown - Finding the Overall Best Model**\n",
    "\n",
    "Now we combine the dictionaries from the classical models (results_ml) and the deep learning models (results_dl) and find the ultimate champion."
   ]
  },
  {
   "cell_type": "code",
   "execution_count": 157,
   "id": "0b59cbce",
   "metadata": {},
   "outputs": [
    {
     "name": "stdout",
     "output_type": "stream",
     "text": [
      "\n",
      "========================================\n",
      "          MODEL PERFORMANCE SHOWDOWN\n",
      "========================================\n",
      "Logistic Regression  | Accuracy: 87.75%\n",
      "Random Forest        | Accuracy: 83.98%\n",
      "Decision Tree        | Accuracy: 75.53%\n",
      "Multinomial NB       | Accuracy: 87.58%\n",
      "RNN                  | Accuracy: 84.57%\n",
      "LSTM                 | Accuracy: 87.42%\n",
      "Bi-RNN               | Accuracy: 83.63%\n",
      "Bi-LSTM              | Accuracy: 88.28%\n",
      "========================================\n",
      "\n",
      "🏆 The overall best performing model is: >> Bi-LSTM << with 88.28% accuracy!\n",
      "========================================\n",
      "\n"
     ]
    }
   ],
   "source": [
    "# Assuming 'results_ml' dictionary exists from Step 4\n",
    "all_results = {**results_ml, **results_dl}\n",
    "\n",
    "# Find the best performing model from all contenders\n",
    "best_model_name = max(all_results, key=lambda name: all_results[name]['accuracy'])\n",
    "best_model_info = all_results[best_model_name]\n",
    "best_model_object = best_model_info['model']\n",
    "\n",
    "print(f\"\\n{'='*40}\")\n",
    "print(\"          MODEL PERFORMANCE SHOWDOWN\")\n",
    "print(f\"{'='*40}\")\n",
    "\n",
    "for name, info in all_results.items():\n",
    "    print(f\"{name:<20} | Accuracy: {info['accuracy']*100:.2f}%\")\n",
    "\n",
    "print(f\"{'='*40}\")\n",
    "print(f\"\\n🏆 The overall best performing model is: >> {best_model_name} << with {best_model_info['accuracy']*100:.2f}% accuracy!\")\n",
    "print(f\"{'='*40}\\n\")"
   ]
  },
  {
   "cell_type": "markdown",
   "id": "f7f6fd9a",
   "metadata": {},
   "source": [
    "**Step 7: The Business Twist - Using the Champion Model**\n",
    "\n",
    "Finally, we use our flexible get_ad_recommendations function with the winning model, whichever one it may be. This function is robust and works whether the champion is a Scikit-learn model or a Keras model."
   ]
  },
  {
   "cell_type": "code",
   "execution_count": 132,
   "id": "41b1ae23",
   "metadata": {},
   "outputs": [
    {
     "name": "stdout",
     "output_type": "stream",
     "text": [
      "--- Ad-Targeting Engine Demonstration ---\n",
      "\u001b[1m1/1\u001b[0m \u001b[32m━━━━━━━━━━━━━━━━━━━━\u001b[0m\u001b[37m\u001b[0m \u001b[1m0s\u001b[0m 444ms/step\n",
      "Input Headline: 'The government just passed a new bill on international trade.'\n",
      "--> Model Used: Enhanced Bi-LSTM (The Champion!)\n",
      "--> Predicted News Category: Business\n",
      "--> Recommended Ad Categories: ['B2B Software', 'Financial Investment Firms', 'Luxury Cars']\n",
      "\n",
      "\u001b[1m1/1\u001b[0m \u001b[32m━━━━━━━━━━━━━━━━━━━━\u001b[0m\u001b[37m\u001b[0m \u001b[1m0s\u001b[0m 49ms/step\n",
      "Input Headline: 'Nvidia announced their new RTX graphics card today, promising a leap in performance.'\n",
      "--> Model Used: Enhanced Bi-LSTM (The Champion!)\n",
      "--> Predicted News Category: Sci/Tech\n",
      "--> Recommended Ad Categories: ['Latest Gadgets', 'Cloud Services', 'Software Deals']\n",
      "\n",
      "\u001b[1m1/1\u001b[0m \u001b[32m━━━━━━━━━━━━━━━━━━━━\u001b[0m\u001b[37m\u001b[0m \u001b[1m0s\u001b[0m 42ms/step\n",
      "Input Headline: 'The Lakers won the championship game in a thrilling overtime finish.'\n",
      "--> Model Used: Enhanced Bi-LSTM (The Champion!)\n",
      "--> Predicted News Category: Sports\n",
      "--> Recommended Ad Categories: ['Fitness Equipment', 'Sports Betting Apps', 'Athletic Apparel']\n",
      "\n"
     ]
    }
   ],
   "source": [
    "# --- Business Logic Layer (Same as before) ---\n",
    "ad_matching_rules = {\n",
    "    'World': ['International Travel', 'News Subscriptions', 'Financial Services'],\n",
    "    'Sports': ['Fitness Equipment', 'Sports Betting Apps', 'Athletic Apparel'],\n",
    "    'Business': ['B2B Software', 'Financial Investment Firms', 'Luxury Cars'],\n",
    "    'Sci/Tech': ['Latest Gadgets', 'Cloud Services', 'Software Deals']\n",
    "}\n",
    "class_mapping_index = {0: 'World', 1: 'Sports', 2: 'Business', 3: 'Sci/Tech'}\n",
    "\n",
    "# --- The Final, Flexible End-to-End Function ---\n",
    "def get_ad_recommendations(news_headline, champion_model, champion_name):\n",
    "    \"\"\"\n",
    "    Takes a news headline, predicts its category using the CHAMPION model,\n",
    "    and recommends relevant ad types.\n",
    "    \"\"\"\n",
    "    processed_headline = preprocess_text(news_headline)\n",
    "    predicted_class_index = 0\n",
    "\n",
    "    # The function intelligently handles both Scikit-learn and Keras models\n",
    "    if champion_name in models: # Check if it's a classical ML model\n",
    "        transformed_headline = tfidf.transform([processed_headline])\n",
    "        predicted_class_index = champion_model.predict(transformed_headline)[0]\n",
    "    else: # Otherwise, it's a DL model\n",
    "        sequence = tokenizer.texts_to_sequences([processed_headline])\n",
    "        padded_sequence = pad_sequences(sequence, maxlen=100)\n",
    "        prediction = champion_model.predict(padded_sequence)\n",
    "        predicted_class_index = np.argmax(prediction, axis=1)[0]\n",
    "    \n",
    "    predicted_category_name = class_mapping_index[predicted_class_index]\n",
    "    recommended_ads = ad_matching_rules[predicted_category_name]\n",
    "    \n",
    "    print(f\"Input Headline: '{news_headline}'\")\n",
    "    print(f\"--> Model Used: {champion_name} (The Champion!)\")\n",
    "    print(f\"--> Predicted News Category: {predicted_category_name}\")\n",
    "    print(f\"--> Recommended Ad Categories: {recommended_ads}\\n\")\n",
    "\n",
    "# --- Let's Test It with the CHAMPION model! ---\n",
    "print(\"--- Ad-Targeting Engine Demonstration ---\")\n",
    "get_ad_recommendations(\"The government just passed a new bill on international trade.\", best_model_object, best_model_name)\n",
    "get_ad_recommendations(\"Nvidia announced their new RTX graphics card today, promising a leap in performance.\", best_model_object, best_model_name)\n",
    "get_ad_recommendations(\"The Lakers won the championship game in a thrilling overtime finish.\", best_model_object, best_model_name)"
   ]
  }
 ],
 "metadata": {
  "kernelspec": {
   "display_name": "azureml_py38",
   "language": "python",
   "name": "python3"
  },
  "language_info": {
   "codemirror_mode": {
    "name": "ipython",
    "version": 3
   },
   "file_extension": ".py",
   "mimetype": "text/x-python",
   "name": "python",
   "nbconvert_exporter": "python",
   "pygments_lexer": "ipython3",
   "version": "3.10.11"
  }
 },
 "nbformat": 4,
 "nbformat_minor": 5
}
